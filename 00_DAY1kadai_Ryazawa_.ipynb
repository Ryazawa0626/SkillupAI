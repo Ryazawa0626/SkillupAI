{
 "cells": [
  {
   "cell_type": "code",
   "execution_count": 104,
   "metadata": {},
   "outputs": [],
   "source": [
    "#課題①　あるクラウドファンディングが成功するかを事前に予測する\n",
    "#必要なライブラリのインポート\n",
    "%matplotlib inline\n",
    "import pandas as pd\n",
    "import numpy as np\n",
    "import matplotlib.pyplot as plt\n",
    "import seaborn as sns\n",
    "from sklearn.preprocessing import LabelEncoder\n",
    "from sklearn.linear_model import SGDClassifier\n",
    "from sklearn.metrics import log_loss, accuracy_score, confusion_matrix\n",
    "from sklearn.preprocessing import StandardScaler\n",
    "from sklearn.metrics import accuracy_score, precision_recall_fscore_support, confusion_matrix"
   ]
  },
  {
   "cell_type": "code",
   "execution_count": 105,
   "metadata": {},
   "outputs": [
    {
     "data": {
      "text/html": [
       "<div>\n",
       "<style scoped>\n",
       "    .dataframe tbody tr th:only-of-type {\n",
       "        vertical-align: middle;\n",
       "    }\n",
       "\n",
       "    .dataframe tbody tr th {\n",
       "        vertical-align: top;\n",
       "    }\n",
       "\n",
       "    .dataframe thead th {\n",
       "        text-align: right;\n",
       "    }\n",
       "</style>\n",
       "<table border=\"1\" class=\"dataframe\">\n",
       "  <thead>\n",
       "    <tr style=\"text-align: right;\">\n",
       "      <th></th>\n",
       "      <th>ID</th>\n",
       "      <th>name</th>\n",
       "      <th>category</th>\n",
       "      <th>main_category</th>\n",
       "      <th>currency</th>\n",
       "      <th>deadline</th>\n",
       "      <th>goal</th>\n",
       "      <th>launched</th>\n",
       "      <th>pledged</th>\n",
       "      <th>state</th>\n",
       "      <th>backers</th>\n",
       "      <th>country</th>\n",
       "      <th>usd pledged</th>\n",
       "      <th>usd_pledged_real</th>\n",
       "      <th>usd_goal_real</th>\n",
       "    </tr>\n",
       "  </thead>\n",
       "  <tbody>\n",
       "    <tr>\n",
       "      <th>0</th>\n",
       "      <td>1000002330</td>\n",
       "      <td>The Songs of Adelaide &amp; Abullah</td>\n",
       "      <td>Poetry</td>\n",
       "      <td>Publishing</td>\n",
       "      <td>GBP</td>\n",
       "      <td>2015-10-09</td>\n",
       "      <td>1000.0</td>\n",
       "      <td>2015-08-11 12:12:28</td>\n",
       "      <td>0.0</td>\n",
       "      <td>failed</td>\n",
       "      <td>0</td>\n",
       "      <td>GB</td>\n",
       "      <td>0.0</td>\n",
       "      <td>0.0</td>\n",
       "      <td>1533.95</td>\n",
       "    </tr>\n",
       "    <tr>\n",
       "      <th>1</th>\n",
       "      <td>1000003930</td>\n",
       "      <td>Greeting From Earth: ZGAC Arts Capsule For ET</td>\n",
       "      <td>Narrative Film</td>\n",
       "      <td>Film &amp; Video</td>\n",
       "      <td>USD</td>\n",
       "      <td>2017-11-01</td>\n",
       "      <td>30000.0</td>\n",
       "      <td>2017-09-02 04:43:57</td>\n",
       "      <td>2421.0</td>\n",
       "      <td>failed</td>\n",
       "      <td>15</td>\n",
       "      <td>US</td>\n",
       "      <td>100.0</td>\n",
       "      <td>2421.0</td>\n",
       "      <td>30000.00</td>\n",
       "    </tr>\n",
       "    <tr>\n",
       "      <th>2</th>\n",
       "      <td>1000004038</td>\n",
       "      <td>Where is Hank?</td>\n",
       "      <td>Narrative Film</td>\n",
       "      <td>Film &amp; Video</td>\n",
       "      <td>USD</td>\n",
       "      <td>2013-02-26</td>\n",
       "      <td>45000.0</td>\n",
       "      <td>2013-01-12 00:20:50</td>\n",
       "      <td>220.0</td>\n",
       "      <td>failed</td>\n",
       "      <td>3</td>\n",
       "      <td>US</td>\n",
       "      <td>220.0</td>\n",
       "      <td>220.0</td>\n",
       "      <td>45000.00</td>\n",
       "    </tr>\n",
       "    <tr>\n",
       "      <th>3</th>\n",
       "      <td>1000007540</td>\n",
       "      <td>ToshiCapital Rekordz Needs Help to Complete Album</td>\n",
       "      <td>Music</td>\n",
       "      <td>Music</td>\n",
       "      <td>USD</td>\n",
       "      <td>2012-04-16</td>\n",
       "      <td>5000.0</td>\n",
       "      <td>2012-03-17 03:24:11</td>\n",
       "      <td>1.0</td>\n",
       "      <td>failed</td>\n",
       "      <td>1</td>\n",
       "      <td>US</td>\n",
       "      <td>1.0</td>\n",
       "      <td>1.0</td>\n",
       "      <td>5000.00</td>\n",
       "    </tr>\n",
       "    <tr>\n",
       "      <th>4</th>\n",
       "      <td>1000011046</td>\n",
       "      <td>Community Film Project: The Art of Neighborhoo...</td>\n",
       "      <td>Film &amp; Video</td>\n",
       "      <td>Film &amp; Video</td>\n",
       "      <td>USD</td>\n",
       "      <td>2015-08-29</td>\n",
       "      <td>19500.0</td>\n",
       "      <td>2015-07-04 08:35:03</td>\n",
       "      <td>1283.0</td>\n",
       "      <td>canceled</td>\n",
       "      <td>14</td>\n",
       "      <td>US</td>\n",
       "      <td>1283.0</td>\n",
       "      <td>1283.0</td>\n",
       "      <td>19500.00</td>\n",
       "    </tr>\n",
       "  </tbody>\n",
       "</table>\n",
       "</div>"
      ],
      "text/plain": [
       "           ID                                               name  \\\n",
       "0  1000002330                    The Songs of Adelaide & Abullah   \n",
       "1  1000003930      Greeting From Earth: ZGAC Arts Capsule For ET   \n",
       "2  1000004038                                     Where is Hank?   \n",
       "3  1000007540  ToshiCapital Rekordz Needs Help to Complete Album   \n",
       "4  1000011046  Community Film Project: The Art of Neighborhoo...   \n",
       "\n",
       "         category main_category currency    deadline     goal  \\\n",
       "0          Poetry    Publishing      GBP  2015-10-09   1000.0   \n",
       "1  Narrative Film  Film & Video      USD  2017-11-01  30000.0   \n",
       "2  Narrative Film  Film & Video      USD  2013-02-26  45000.0   \n",
       "3           Music         Music      USD  2012-04-16   5000.0   \n",
       "4    Film & Video  Film & Video      USD  2015-08-29  19500.0   \n",
       "\n",
       "              launched  pledged     state  backers country  usd pledged  \\\n",
       "0  2015-08-11 12:12:28      0.0    failed        0      GB          0.0   \n",
       "1  2017-09-02 04:43:57   2421.0    failed       15      US        100.0   \n",
       "2  2013-01-12 00:20:50    220.0    failed        3      US        220.0   \n",
       "3  2012-03-17 03:24:11      1.0    failed        1      US          1.0   \n",
       "4  2015-07-04 08:35:03   1283.0  canceled       14      US       1283.0   \n",
       "\n",
       "   usd_pledged_real  usd_goal_real  \n",
       "0               0.0        1533.95  \n",
       "1            2421.0       30000.00  \n",
       "2             220.0       45000.00  \n",
       "3               1.0        5000.00  \n",
       "4            1283.0       19500.00  "
      ]
     },
     "metadata": {},
     "output_type": "display_data"
    }
   ],
   "source": [
    "#データの読み込み\n",
    "Kickstarter= pd.read_csv(\"../1_data/ks-projects-201801.csv\")\n",
    "display(Kickstarter.head())\n"
   ]
  },
  {
   "cell_type": "markdown",
   "metadata": {},
   "source": [
    "#ID=番号\n",
    "#name=プロジェクト名\n",
    "#category=細かいカテゴリー\n",
    "#main_category=大きなカテゴリー\n",
    "#currency=募集した通貨の単位\n",
    "#deadline=支援金募集期間の締め切り日\n",
    "#goal=目標の公募金額\n",
    "#launched=支援金募集期間の公募開始日\n",
    "#pledged=公募された金額→→→→→→→→→→→→リークが起きるため分析に不要\n",
    "#state=プロジェクトの資金調達が目標額に到達したか否か\n",
    "#backers=支援者数→→→→→→→→→→→→リークが起きるため分析に不要\n",
    "#country=どの国のプロジェクトか\n",
    "#usd pledged=米国ドル版の公募された金額？→→→→→→→→→→→→リークが起きるため分析に不要\n",
    "#usd_pledged_real=米国ドル版の公募された金額→→→→→→→→→→→→リークが起きるため分析に不要\n",
    "#usd_goal_real=米国ドル版の目標公募金額"
   ]
  },
  {
   "cell_type": "code",
   "execution_count": 107,
   "metadata": {},
   "outputs": [
    {
     "data": {
      "text/html": [
       "<div>\n",
       "<style scoped>\n",
       "    .dataframe tbody tr th:only-of-type {\n",
       "        vertical-align: middle;\n",
       "    }\n",
       "\n",
       "    .dataframe tbody tr th {\n",
       "        vertical-align: top;\n",
       "    }\n",
       "\n",
       "    .dataframe thead th {\n",
       "        text-align: right;\n",
       "    }\n",
       "</style>\n",
       "<table border=\"1\" class=\"dataframe\">\n",
       "  <thead>\n",
       "    <tr style=\"text-align: right;\">\n",
       "      <th></th>\n",
       "      <th>name</th>\n",
       "      <th>category</th>\n",
       "      <th>main_category</th>\n",
       "      <th>currency</th>\n",
       "      <th>deadline</th>\n",
       "      <th>launched</th>\n",
       "      <th>state</th>\n",
       "      <th>country</th>\n",
       "      <th>usd_goal_real</th>\n",
       "    </tr>\n",
       "  </thead>\n",
       "  <tbody>\n",
       "    <tr>\n",
       "      <th>0</th>\n",
       "      <td>The Songs of Adelaide &amp; Abullah</td>\n",
       "      <td>Poetry</td>\n",
       "      <td>Publishing</td>\n",
       "      <td>GBP</td>\n",
       "      <td>2015-10-09</td>\n",
       "      <td>2015-08-11 12:12:28</td>\n",
       "      <td>failed</td>\n",
       "      <td>GB</td>\n",
       "      <td>1533.95</td>\n",
       "    </tr>\n",
       "    <tr>\n",
       "      <th>1</th>\n",
       "      <td>Greeting From Earth: ZGAC Arts Capsule For ET</td>\n",
       "      <td>Narrative Film</td>\n",
       "      <td>Film &amp; Video</td>\n",
       "      <td>USD</td>\n",
       "      <td>2017-11-01</td>\n",
       "      <td>2017-09-02 04:43:57</td>\n",
       "      <td>failed</td>\n",
       "      <td>US</td>\n",
       "      <td>30000.00</td>\n",
       "    </tr>\n",
       "    <tr>\n",
       "      <th>2</th>\n",
       "      <td>Where is Hank?</td>\n",
       "      <td>Narrative Film</td>\n",
       "      <td>Film &amp; Video</td>\n",
       "      <td>USD</td>\n",
       "      <td>2013-02-26</td>\n",
       "      <td>2013-01-12 00:20:50</td>\n",
       "      <td>failed</td>\n",
       "      <td>US</td>\n",
       "      <td>45000.00</td>\n",
       "    </tr>\n",
       "    <tr>\n",
       "      <th>3</th>\n",
       "      <td>ToshiCapital Rekordz Needs Help to Complete Album</td>\n",
       "      <td>Music</td>\n",
       "      <td>Music</td>\n",
       "      <td>USD</td>\n",
       "      <td>2012-04-16</td>\n",
       "      <td>2012-03-17 03:24:11</td>\n",
       "      <td>failed</td>\n",
       "      <td>US</td>\n",
       "      <td>5000.00</td>\n",
       "    </tr>\n",
       "    <tr>\n",
       "      <th>4</th>\n",
       "      <td>Community Film Project: The Art of Neighborhoo...</td>\n",
       "      <td>Film &amp; Video</td>\n",
       "      <td>Film &amp; Video</td>\n",
       "      <td>USD</td>\n",
       "      <td>2015-08-29</td>\n",
       "      <td>2015-07-04 08:35:03</td>\n",
       "      <td>canceled</td>\n",
       "      <td>US</td>\n",
       "      <td>19500.00</td>\n",
       "    </tr>\n",
       "  </tbody>\n",
       "</table>\n",
       "</div>"
      ],
      "text/plain": [
       "                                                name        category  \\\n",
       "0                    The Songs of Adelaide & Abullah          Poetry   \n",
       "1      Greeting From Earth: ZGAC Arts Capsule For ET  Narrative Film   \n",
       "2                                     Where is Hank?  Narrative Film   \n",
       "3  ToshiCapital Rekordz Needs Help to Complete Album           Music   \n",
       "4  Community Film Project: The Art of Neighborhoo...    Film & Video   \n",
       "\n",
       "  main_category currency    deadline             launched     state country  \\\n",
       "0    Publishing      GBP  2015-10-09  2015-08-11 12:12:28    failed      GB   \n",
       "1  Film & Video      USD  2017-11-01  2017-09-02 04:43:57    failed      US   \n",
       "2  Film & Video      USD  2013-02-26  2013-01-12 00:20:50    failed      US   \n",
       "3         Music      USD  2012-04-16  2012-03-17 03:24:11    failed      US   \n",
       "4  Film & Video      USD  2015-08-29  2015-07-04 08:35:03  canceled      US   \n",
       "\n",
       "   usd_goal_real  \n",
       "0        1533.95  \n",
       "1       30000.00  \n",
       "2       45000.00  \n",
       "3        5000.00  \n",
       "4       19500.00  "
      ]
     },
     "metadata": {},
     "output_type": "display_data"
    }
   ],
   "source": [
    "#不要な列の削除\n",
    "#IDは分析に不要\n",
    "Kickstarter=Kickstarter.drop(columns=\"ID\")\n",
    "#goalはusd_goal_realと被るため分析に不要\n",
    "Kickstarter=Kickstarter.drop(columns=\"goal\")\n",
    "#pledgedはリークが起きるため分析に不要\n",
    "Kickstarter=Kickstarter.drop(columns=\"pledged\")\n",
    "#usd pledgedはリークが起きるため分析に不要\n",
    "Kickstarter=Kickstarter.drop(columns=\"usd pledged\")\n",
    "#usd_pledged_realはリークが起きるため分析に不要\n",
    "Kickstarter=Kickstarter.drop(columns=\"usd_pledged_real\")\n",
    "#backersはリークが起きるため分析に不要\n",
    "Kickstarter=Kickstarter.drop(columns=\"backers\")\n",
    "display(Kickstarter.head())"
   ]
  },
  {
   "cell_type": "code",
   "execution_count": 108,
   "metadata": {},
   "outputs": [
    {
     "name": "stdout",
     "output_type": "stream",
     "text": [
      "<class 'pandas.core.frame.DataFrame'>\n",
      "RangeIndex: 378661 entries, 0 to 378660\n",
      "Data columns (total 9 columns):\n",
      " #   Column         Non-Null Count   Dtype  \n",
      "---  ------         --------------   -----  \n",
      " 0   name           378657 non-null  object \n",
      " 1   category       378661 non-null  object \n",
      " 2   main_category  378661 non-null  object \n",
      " 3   currency       378661 non-null  object \n",
      " 4   deadline       378661 non-null  object \n",
      " 5   launched       378661 non-null  object \n",
      " 6   state          378661 non-null  object \n",
      " 7   country        378661 non-null  object \n",
      " 8   usd_goal_real  378661 non-null  float64\n",
      "dtypes: float64(1), object(8)\n",
      "memory usage: 26.0+ MB\n"
     ]
    },
    {
     "data": {
      "text/plain": [
       "name             4\n",
       "category         0\n",
       "main_category    0\n",
       "currency         0\n",
       "deadline         0\n",
       "launched         0\n",
       "state            0\n",
       "country          0\n",
       "usd_goal_real    0\n",
       "dtype: int64"
      ]
     },
     "execution_count": 108,
     "metadata": {},
     "output_type": "execute_result"
    }
   ],
   "source": [
    "#欠損値確認\n",
    "Kickstarter.info()\n",
    "Kickstarter.isnull().sum()"
   ]
  },
  {
   "cell_type": "code",
   "execution_count": 109,
   "metadata": {
    "scrolled": false
   },
   "outputs": [
    {
     "name": "stdout",
     "output_type": "stream",
     "text": [
      "<class 'pandas.core.frame.DataFrame'>\n",
      "Int64Index: 378657 entries, 0 to 378660\n",
      "Data columns (total 9 columns):\n",
      " #   Column         Non-Null Count   Dtype  \n",
      "---  ------         --------------   -----  \n",
      " 0   name           378657 non-null  object \n",
      " 1   category       378657 non-null  object \n",
      " 2   main_category  378657 non-null  object \n",
      " 3   currency       378657 non-null  object \n",
      " 4   deadline       378657 non-null  object \n",
      " 5   launched       378657 non-null  object \n",
      " 6   state          378657 non-null  object \n",
      " 7   country        378657 non-null  object \n",
      " 8   usd_goal_real  378657 non-null  float64\n",
      "dtypes: float64(1), object(8)\n",
      "memory usage: 28.9+ MB\n"
     ]
    },
    {
     "data": {
      "text/plain": [
       "name             0\n",
       "category         0\n",
       "main_category    0\n",
       "currency         0\n",
       "deadline         0\n",
       "launched         0\n",
       "state            0\n",
       "country          0\n",
       "usd_goal_real    0\n",
       "dtype: int64"
      ]
     },
     "execution_count": 109,
     "metadata": {},
     "output_type": "execute_result"
    }
   ],
   "source": [
    "#欠損値のある行を削除\n",
    "Kickstarter=Kickstarter.dropna(how=\"any\")\n",
    "Kickstarter.info()\n",
    "Kickstarter.isnull().sum()"
   ]
  },
  {
   "cell_type": "code",
   "execution_count": 110,
   "metadata": {},
   "outputs": [
    {
     "data": {
      "text/plain": [
       "Product Design     22313\n",
       "Documentary        16139\n",
       "Music              15727\n",
       "Tabletop Games     14180\n",
       "Shorts             12357\n",
       "                   ...  \n",
       "Residencies           69\n",
       "Letterpress           49\n",
       "Chiptune              35\n",
       "Literary Spaces       27\n",
       "Taxidermy             13\n",
       "Name: category, Length: 159, dtype: int64"
      ]
     },
     "execution_count": 110,
     "metadata": {},
     "output_type": "execute_result"
    }
   ],
   "source": [
    "#データの中身確認\n",
    "Kickstarter['category'].value_counts()"
   ]
  },
  {
   "cell_type": "code",
   "execution_count": 111,
   "metadata": {
    "scrolled": true
   },
   "outputs": [
    {
     "data": {
      "text/plain": [
       "Film & Video    63584\n",
       "Music           51918\n",
       "Publishing      39874\n",
       "Games           35230\n",
       "Technology      32569\n",
       "Design          30069\n",
       "Art             28152\n",
       "Food            24602\n",
       "Fashion         22816\n",
       "Theater         10913\n",
       "Comics          10819\n",
       "Photography     10779\n",
       "Crafts           8809\n",
       "Journalism       4755\n",
       "Dance            3768\n",
       "Name: main_category, dtype: int64"
      ]
     },
     "execution_count": 111,
     "metadata": {},
     "output_type": "execute_result"
    }
   ],
   "source": [
    "#データの中身確認\n",
    "Kickstarter['main_category'].value_counts()"
   ]
  },
  {
   "cell_type": "code",
   "execution_count": 112,
   "metadata": {
    "scrolled": true
   },
   "outputs": [
    {
     "data": {
      "text/plain": [
       "USD    295362\n",
       "GBP     34131\n",
       "EUR     17405\n",
       "CAD     14962\n",
       "AUD      7950\n",
       "SEK      1788\n",
       "MXN      1752\n",
       "NZD      1475\n",
       "DKK      1129\n",
       "CHF       768\n",
       "NOK       722\n",
       "HKD       618\n",
       "SGD       555\n",
       "JPY        40\n",
       "Name: currency, dtype: int64"
      ]
     },
     "execution_count": 112,
     "metadata": {},
     "output_type": "execute_result"
    }
   ],
   "source": [
    "#データの中身確認\n",
    "Kickstarter['currency'].value_counts()"
   ]
  },
  {
   "cell_type": "code",
   "execution_count": 113,
   "metadata": {
    "scrolled": true
   },
   "outputs": [
    {
     "data": {
      "text/plain": [
       "failed        197716\n",
       "successful    133956\n",
       "canceled       38779\n",
       "undefined       3562\n",
       "live            2799\n",
       "suspended       1845\n",
       "Name: state, dtype: int64"
      ]
     },
     "execution_count": 113,
     "metadata": {},
     "output_type": "execute_result"
    }
   ],
   "source": [
    "#データの中身確認\n",
    "Kickstarter['state'].value_counts()"
   ]
  },
  {
   "cell_type": "code",
   "execution_count": 114,
   "metadata": {
    "scrolled": true
   },
   "outputs": [
    {
     "data": {
      "text/plain": [
       "US      292624\n",
       "GB       33671\n",
       "CA       14756\n",
       "AU        7839\n",
       "DE        4171\n",
       "N,0\"      3797\n",
       "FR        2939\n",
       "IT        2878\n",
       "NL        2868\n",
       "ES        2276\n",
       "SE        1757\n",
       "MX        1752\n",
       "NZ        1447\n",
       "DK        1113\n",
       "IE         811\n",
       "CH         761\n",
       "NO         708\n",
       "HK         618\n",
       "BE         617\n",
       "AT         597\n",
       "SG         555\n",
       "LU          62\n",
       "JP          40\n",
       "Name: country, dtype: int64"
      ]
     },
     "execution_count": 114,
     "metadata": {},
     "output_type": "execute_result"
    }
   ],
   "source": [
    "#データの中身確認\n",
    "Kickstarter['country'].value_counts()"
   ]
  },
  {
   "cell_type": "code",
   "execution_count": 115,
   "metadata": {
    "scrolled": true
   },
   "outputs": [
    {
     "data": {
      "text/plain": [
       "<matplotlib.axes._subplots.AxesSubplot at 0x7feb87d5b4d0>"
      ]
     },
     "execution_count": 115,
     "metadata": {},
     "output_type": "execute_result"
    },
    {
     "data": {
      "image/png": "[encoded data removed]",
      "text/plain": [
       "<Figure size 432x288 with 1 Axes>"
      ]
     },
     "metadata": {
      "needs_background": "light"
     },
     "output_type": "display_data"
    }
   ],
   "source": [
    "#データの中身確認\n",
    "sns.boxplot(Kickstarter[\"usd_goal_real\"])"
   ]
  },
  {
   "cell_type": "code",
   "execution_count": 116,
   "metadata": {
    "scrolled": true
   },
   "outputs": [
    {
     "data": {
      "text/plain": [
       "failed        197716\n",
       "successful    133956\n",
       "Name: state, dtype: int64"
      ]
     },
     "execution_count": 116,
     "metadata": {},
     "output_type": "execute_result"
    }
   ],
   "source": [
    "#目的変数を成功と失敗のみ取り扱う\n",
    "Kickstarter_s = Kickstarter[Kickstarter['state']=='successful']\n",
    "Kickstarter_f=  Kickstarter[Kickstarter['state']=='failed']\n",
    "Kickstarter = pd.concat([Kickstarter_s,Kickstarter_f])\n",
    "Kickstarter['state'].value_counts()"
   ]
  },
  {
   "cell_type": "code",
   "execution_count": 117,
   "metadata": {},
   "outputs": [],
   "source": [
    "#nameを数値型に変更する\n",
    "def name_c(name):\n",
    "    return len(str(name).split())\n",
    "Kickstarter['name']=Kickstarter['name'].apply(name_c)"
   ]
  },
  {
   "cell_type": "code",
   "execution_count": 118,
   "metadata": {},
   "outputs": [],
   "source": [
    "#stateを数値型に変更する\n",
    "Kickstarter.loc[Kickstarter['state'] == \"successful\", 'state'] = 1\n",
    "Kickstarter.loc[Kickstarter['state'] == \"failed\", 'state'] = 0\n",
    "Kickstarter['state'].value_counts()\n",
    "#nameを数値型に変更する\n",
    "def state_t(state):\n",
    "    return int(state)\n",
    "Kickstarter['state']=Kickstarter['state'].apply(state_t)"
   ]
  },
  {
   "cell_type": "code",
   "execution_count": 119,
   "metadata": {},
   "outputs": [],
   "source": [
    "#usd_goal_realを標準化する\n",
    "from sklearn.preprocessing import StandardScaler\n",
    "stdsc = StandardScaler()\n",
    "Kickstarter[\"usd_goal_real\"]=stdsc.fit_transform(Kickstarter[[\"usd_goal_real\"]].values)"
   ]
  },
  {
   "cell_type": "code",
   "execution_count": 120,
   "metadata": {},
   "outputs": [],
   "source": [
    "#時間を文字型から数値型に変更して、経過日数を計算\n",
    "Kickstarter[\"launched\"]= pd.to_datetime(Kickstarter[\"launched\"])\n",
    "Kickstarter[\"deadline\"]= pd.to_datetime(Kickstarter[\"deadline\"])\n",
    "Kickstarter[\"keikanissuu\"]=(Kickstarter[\"deadline\"]-Kickstarter[\"launched\"]).dt.days"
   ]
  },
  {
   "cell_type": "code",
   "execution_count": 121,
   "metadata": {
    "scrolled": false
   },
   "outputs": [
    {
     "name": "stdout",
     "output_type": "stream",
     "text": [
      "<class 'pandas.core.frame.DataFrame'>\n",
      "Int64Index: 331672 entries, 5 to 378660\n",
      "Data columns (total 10 columns):\n",
      " #   Column         Non-Null Count   Dtype         \n",
      "---  ------         --------------   -----         \n",
      " 0   name           331672 non-null  int64         \n",
      " 1   category       331672 non-null  object        \n",
      " 2   main_category  331672 non-null  object        \n",
      " 3   currency       331672 non-null  object        \n",
      " 4   deadline       331672 non-null  datetime64[ns]\n",
      " 5   launched       331672 non-null  datetime64[ns]\n",
      " 6   state          331672 non-null  int64         \n",
      " 7   country        331672 non-null  object        \n",
      " 8   usd_goal_real  331672 non-null  float64       \n",
      " 9   keikanissuu    331672 non-null  int64         \n",
      "dtypes: datetime64[ns](2), float64(1), int64(3), object(4)\n",
      "memory usage: 27.8+ MB\n"
     ]
    }
   ],
   "source": [
    "Kickstarter.info()"
   ]
  },
  {
   "cell_type": "code",
   "execution_count": 122,
   "metadata": {},
   "outputs": [
    {
     "data": {
      "image/png": "[encoded data removed]",
      "text/plain": [
       "<Figure size 432x288 with 2 Axes>"
      ]
     },
     "metadata": {
      "needs_background": "light"
     },
     "output_type": "display_data"
    }
   ],
   "source": [
    "#現時点での相関を調べる\n",
    "sns.heatmap(Kickstarter.corr(), annot=True)\n",
    "plt.ylim(4, 0)\n",
    "plt.show()\n"
   ]
  },
  {
   "cell_type": "code",
   "execution_count": 123,
   "metadata": {},
   "outputs": [],
   "source": [
    "#不要な列の削除\n",
    "#categoryは項目が多すぎるため、main_categoyを用いる\n",
    "Kickstarter=Kickstarter.drop(columns=\"category\")\n",
    "Kickstarter=Kickstarter.drop(columns=\"deadline\")\n",
    "Kickstarter=Kickstarter.drop(columns=\"launched\")"
   ]
  },
  {
   "cell_type": "code",
   "execution_count": 124,
   "metadata": {},
   "outputs": [],
   "source": [
    "#ダミー変数の追加\n",
    "Kickstarter=pd.get_dummies(Kickstarter,columns=[\"main_category\"])\n",
    "Kickstarter=pd.get_dummies(Kickstarter,columns=[\"currency\"])\n",
    "Kickstarter=pd.get_dummies(Kickstarter,columns=[\"country\"])"
   ]
  },
  {
   "cell_type": "code",
   "execution_count": 125,
   "metadata": {},
   "outputs": [
    {
     "name": "stdout",
     "output_type": "stream",
     "text": [
      "-3.7622387937963477\n",
      "[[ 1.49287537e-01 -1.20627706e+02  9.83329171e-03 -3.77063102e-01\n",
      "   3.81064859e-01 -1.31104615e+00  5.89882420e-01  3.08622534e-01\n",
      "  -8.61321273e-01  9.71014677e-02 -5.21096475e-01  2.42290539e-01\n",
      "  -1.15108165e+00  4.32596648e-02 -7.52707313e-01 -7.67872166e-01\n",
      "  -2.58903965e-01  5.76631814e-01 -4.69757464e-01 -1.48269390e-01\n",
      "  -7.29217153e-02 -3.88522467e-01 -4.99917749e-01  1.90259123e-01\n",
      "   1.86848026e-02 -2.33599812e-01 -6.42503562e-01 -4.27378276e-01\n",
      "  -3.05174380e-01 -3.14637204e-01 -2.12710939e-01 -2.55789761e-01\n",
      "  -4.01815999e-01 -3.02758075e-01 -1.76186348e-01 -4.64741118e-01\n",
      "  -7.29217153e-02 -2.53307721e-01  5.07548294e-02 -3.98965872e-01\n",
      "   3.32224801e-01 -5.42707368e-01  1.86848026e-02 -2.09408380e-01\n",
      "  -7.53051195e-01 -2.33599812e-01  1.96375300e+00 -6.42503562e-01\n",
      "  -1.87156199e-01 -2.64985381e-01 -4.92834709e-01 -3.05174380e-01\n",
      "  -2.52539161e-01 -2.12710939e-01  3.97117083e-02]]\n"
     ]
    }
   ],
   "source": [
    "#ロジスティック回帰で予測を行う\n",
    "y=Kickstarter[\"state\"].values\n",
    "X=Kickstarter.drop(\"state\",axis=1).values\n",
    "clf = SGDClassifier(loss='log', penalty='none', max_iter=10000, fit_intercept=True, random_state=1234, tol=1e-3, )\n",
    "clf.fit(X, y)\n",
    "w0 = clf.intercept_[0]\n",
    "w = clf.coef_\n",
    "\n",
    "print(w0)\n",
    "print(w)"
   ]
  },
  {
   "cell_type": "code",
   "execution_count": 126,
   "metadata": {},
   "outputs": [
    {
     "name": "stdout",
     "output_type": "stream",
     "text": [
      "対数尤度 = -269451.285\n",
      "正答率 = 57.181%\n",
      "適合率（Precision） = 48.211%\n",
      "再現率（Recall） = 81.076%\n",
      "F1値（F1-score） = 60.466%\n"
     ]
    }
   ],
   "source": [
    "# ラベルを予測\n",
    "y_est = clf.predict(X)\n",
    "\n",
    "# 確率値を得る\n",
    "y_est_proba = clf.predict_proba(X)\n",
    "\n",
    "# 対数尤度を表示\n",
    "print('対数尤度 = {:.3f}'.format(- log_loss(y, y_est_proba, normalize=False))) \n",
    "\n",
    "# 正答率を表示\n",
    "print('正答率 = {:.3f}%'.format(100 * accuracy_score(y, y_est)))\n",
    "\n",
    "# Precision, Recall, F1-scoreを計算\n",
    "precision, recall, f1_score, _ = precision_recall_fscore_support(y, y_est)\n",
    "\n",
    "print('適合率（Precision） = {:.3f}%'.format(100 * precision[1]))\n",
    "print('再現率（Recall） = {:.3f}%'.format(100 * recall[1]))\n",
    "print('F1値（F1-score） = {:.3f}%'.format(100 * f1_score[1]))"
   ]
  }
 ],
 "metadata": {
  "kernelspec": {
   "display_name": "Python 3",
   "language": "python",
   "name": "python3"
  },
  "language_info": {
   "codemirror_mode": {
    "name": "ipython",
    "version": 3
   },
   "file_extension": ".py",
   "mimetype": "text/x-python",
   "name": "python",
   "nbconvert_exporter": "python",
   "pygments_lexer": "ipython3",
   "version": "3.7.6"
  }
 },
 "nbformat": 4,
 "nbformat_minor": 4
}
